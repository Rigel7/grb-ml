{
 "cells": [
  {
   "cell_type": "code",
   "execution_count": 4,
   "id": "01162fcf",
   "metadata": {},
   "outputs": [],
   "source": [
    "import pandas as pd\n",
    "import numpy as np\n",
    "import math\n",
    "import shap\n",
    "from matplotlib import pyplot as plt\n",
    "import seaborn as sns\n",
    "import matplotlib.patches as patches\n",
    "from sklearn.tree import DecisionTreeClassifier\n",
    "from sklearn.metrics import confusion_matrix,ConfusionMatrixDisplay,accuracy_score,f1_score\n",
    "from sklearn.model_selection import train_test_split\n",
    "from sklearn.utils.class_weight import compute_class_weight,compute_sample_weight\n",
    "from astropy.coordinates import SkyCoord\n",
    "import astropy.units as u\n",
    "from xgboost import XGBClassifier\n",
    "from grb_ml_utils import *"
   ]
  },
  {
   "cell_type": "code",
   "execution_count": 5,
   "id": "559fee05",
   "metadata": {},
   "outputs": [
    {
     "name": "stderr",
     "output_type": "stream",
     "text": [
      "Columns (4,8) have mixed types.Specify dtype option on import or set low_memory=False.\n"
     ]
    }
   ],
   "source": [
    "grbgen, big_table = load_big_greiner()"
   ]
  },
  {
   "cell_type": "code",
   "execution_count": 6,
   "id": "57486bfe",
   "metadata": {},
   "outputs": [],
   "source": [
    "columns_to_use = ['T90','z','D_L',\n",
    "                   'F_g', 'HR', 'E_iso', 'L_pk', 'F_pk1', 'F_pk2',\n",
    "                   'P_pk1','P_pk4', 'alpha_band', 'beta_band', 'E_P_band',\n",
    "                   'alpha_cpl', 'E_P_cpl', 'alpha_spl','spectral_lag',\n",
    "                   'theta_j', 'Gamma0', 'log_t_burst',\n",
    "                   't_b',\n",
    "                   'F_X11hr', 'beta_X11hr', 'F_Opt11hr',\n",
    "                   'T_ai', 'L_a',\n",
    "                   'offset', 'metallicity',\n",
    "                   'A_V', 'SFR',\n",
    "                   'SSFR', 'Age', 'Mass']\n",
    "\n",
    "rows_to_use = np.zeros(len(big_table),dtype=bool)\n",
    "for feature in columns_to_use:\n",
    "    if feature=='T90':\n",
    "        continue\n",
    "    else:\n",
    "        rows_to_use = np.logical_or(rows_to_use,big_table[feature].notnull())\n",
    "rows_to_use = np.logical_and(rows_to_use,big_table['T90'].notnull())\n",
    "big_table = big_table[rows_to_use]"
   ]
  },
  {
   "cell_type": "code",
   "execution_count": 7,
   "id": "bab6164f",
   "metadata": {},
   "outputs": [
    {
     "name": "stdout",
     "output_type": "stream",
     "text": [
      "3153\n",
      "1367\n"
     ]
    }
   ],
   "source": [
    "print(np.sum(big_table['class']==-1))\n",
    "print(np.sum(big_table['class']!=-1))"
   ]
  },
  {
   "cell_type": "code",
   "execution_count": 9,
   "id": "7cd43741",
   "metadata": {},
   "outputs": [
    {
     "name": "stdout",
     "output_type": "stream",
     "text": [
      "[[9.9837434e-01 1.6256410e-03]\n",
      " [9.9991518e-01 8.4800769e-05]\n",
      " [9.9975693e-01 2.4306640e-04]\n",
      " ...\n",
      " [9.6310139e-01 3.6898635e-02]\n",
      " [9.9955595e-01 4.4405853e-04]\n",
      " [9.9990070e-01 9.9290490e-05]]\n"
     ]
    },
    {
     "data": {
      "image/png": "[encoded data removed]",
      "text/plain": [
       "<Figure size 640x480 with 1 Axes>"
      ]
     },
     "metadata": {},
     "output_type": "display_data"
    }
   ],
   "source": [
    "data_pd = big_table[big_table['class']!=-1]\n",
    "X = data_pd[columns_to_use]\n",
    "y = data_pd['class'].to_numpy()\n",
    "test_X = big_table[big_table['class']==-1][columns_to_use]\n",
    "\n",
    "clf = XGBClassifier(use_label_encoder=False,eval_metric='logloss')\n",
    "sample_weight = compute_sample_weight('balanced',y=y)\n",
    "clf.fit(X, y,sample_weight=sample_weight)\n",
    "predictions = clf.predict(test_X)\n",
    "prediction_proba = clf.predict_proba(test_X)\n",
    "print(prediction_proba)\n",
    "plt.hist(prediction_proba[:,0],30,density=True)\n",
    "plt.yscale('log')\n",
    "plt.ylabel('Density')\n",
    "plt.xlabel('Type II Probablity')\n",
    "plt.tight_layout()\n",
    "plt.savefig('./paper/predict_proba.pdf')"
   ]
  },
  {
   "cell_type": "code",
   "execution_count": 11,
   "id": "d950a91e",
   "metadata": {},
   "outputs": [
    {
     "name": "stdout",
     "output_type": "stream",
     "text": [
      "2474\n",
      "679\n"
     ]
    }
   ],
   "source": [
    "# Number of predicted Type II and I GRBs\n",
    "print(np.sum(np.argmax(prediction_proba,axis=1)==0))\n",
    "print(np.sum(np.argmax(prediction_proba,axis=1)==1))"
   ]
  },
  {
   "cell_type": "code",
   "execution_count": null,
   "id": "8957cfb8",
   "metadata": {},
   "outputs": [],
   "source": []
  }
 ],
 "metadata": {
  "kernelspec": {
   "display_name": "Python 3 (ipykernel)",
   "language": "python",
   "name": "python3"
  },
  "language_info": {
   "codemirror_mode": {
    "name": "ipython",
    "version": 3
   },
   "file_extension": ".py",
   "mimetype": "text/x-python",
   "name": "python",
   "nbconvert_exporter": "python",
   "pygments_lexer": "ipython3",
   "version": "3.7.9"
  }
 },
 "nbformat": 4,
 "nbformat_minor": 5
}
