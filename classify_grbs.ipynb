{
 "cells": [
  {
   "cell_type": "code",
   "execution_count": 1,
   "id": "6061988a",
   "metadata": {},
   "outputs": [],
   "source": [
    "import pandas as pd\n",
    "import numpy as np\n",
    "from xgboost import XGBClassifier\n",
    "from grb_ml_utils import *"
   ]
  },
  {
   "cell_type": "code",
   "execution_count": 2,
   "id": "9a4476f5",
   "metadata": {},
   "outputs": [
    {
     "name": "stderr",
     "output_type": "stream",
     "text": [
      "C:\\Users\\luojiawei\\Anaconda3\\lib\\site-packages\\ipykernel_launcher.py:2: DtypeWarning: Columns (4,8) have mixed types.Specify dtype option on import or set low_memory=False.\n",
      "  \n"
     ]
    }
   ],
   "source": [
    "# load big table so we can copy the column names\n",
    "grbgen, big_table = load_big_greiner()"
   ]
  },
  {
   "cell_type": "code",
   "execution_count": 3,
   "id": "2a7ea107",
   "metadata": {},
   "outputs": [],
   "source": [
    "# load model\n",
    "clf = XGBClassifier(use_label_encoder=False,eval_metric='logloss')\n",
    "clf.load_model(\"trained_all.json\")"
   ]
  },
  {
   "cell_type": "code",
   "execution_count": 4,
   "id": "ac9ef5ad",
   "metadata": {},
   "outputs": [],
   "source": [
    "columns_to_use = ['T90','z','D_L',\n",
    "                   'F_g', 'HR', 'E_iso', 'L_pk', 'F_pk1',\n",
    "                   'P_pk4', 'alpha_band', 'beta_band', 'E_P_band',\n",
    "                   'alpha_cpl', 'E_P_cpl', 'alpha_spl','spectral_lag',\n",
    "                   'theta_j', 'Gamma0', 'log_t_burst',\n",
    "                   't_b',\n",
    "                   'F_X11hr', 'beta_X11hr', 'F_Opt11hr',\n",
    "                   'T_ai', 'L_a',\n",
    "                   'offset', 'metallicity',\n",
    "                   'A_V', 'SFR',\n",
    "                   'SSFR', 'Age', 'Mass']"
   ]
  },
  {
   "cell_type": "code",
   "execution_count": 5,
   "id": "1464ff58",
   "metadata": {},
   "outputs": [],
   "source": [
    "# The input data should have the same columns as the training data\n",
    "a = np.empty((1,206))\n",
    "a[:] = np.nan\n",
    "GRB211211A = pd.DataFrame(data=a, columns=big_table.columns)\n",
    "GRB211211A.loc[0,'GRB'] = '211211A'\n",
    "GRB211211A.loc[0,'T90'] = np.log10(34.3)\n",
    "GRB211211A.loc[0,'F_g'] = np.log10(540)\n",
    "GRB211211A.loc[0,'HR'] = np.log10(3.6)\n",
    "GRB211211A.loc[0,'P_pk4'] = np.log10(324.9)\n",
    "GRB211211A.loc[0,'alpha_band'] = 1.3\n",
    "GRB211211A.loc[0,'beta_band'] = 2.4\n",
    "GRB211211A.loc[0,'E_P_band'] = np.log10(646.8)\n",
    "GRB211211A.loc[0,'spectral_lag'] = 107\n",
    "\n",
    "GRB211211A.loc[0,'z'] = 0.0763\n",
    "GRB211211A.loc[0,'D_L'] = np.log10(0.105)\n",
    "GRB211211A.loc[0,'E_iso'] = np.log10(0.69)\n",
    "GRB211211A.loc[0,'L_pk'] = np.log10(0.194)\n",
    "\n",
    "GRB211211A.loc[0,'offset'] = np.log10(7.91)\n",
    "GRB211211A.loc[0,'metallicity'] = -0.69\n",
    "GRB211211A.loc[0,'A_V'] = 0.05\n",
    "GRB211211A.loc[0,'Age'] = np.log10(4.00)\n",
    "GRB211211A.loc[0,'Mass'] = np.log10(6.92e8)\n",
    "\n",
    "GRB211211A = GRB211211A[columns_to_use]"
   ]
  },
  {
   "cell_type": "code",
   "execution_count": 6,
   "id": "b2862d39",
   "metadata": {},
   "outputs": [
    {
     "data": {
      "text/plain": [
       "array([[0.9901163 , 0.00988372]], dtype=float32)"
      ]
     },
     "execution_count": 6,
     "metadata": {},
     "output_type": "execute_result"
    }
   ],
   "source": [
    "#predict probablities of either class\n",
    "clf.predict_proba(GRB211211A)"
   ]
  },
  {
   "cell_type": "code",
   "execution_count": null,
   "id": "a864467c",
   "metadata": {},
   "outputs": [],
   "source": []
  }
 ],
 "metadata": {
  "kernelspec": {
   "display_name": "Python 3 (ipykernel)",
   "language": "python",
   "name": "python3"
  },
  "language_info": {
   "codemirror_mode": {
    "name": "ipython",
    "version": 3
   },
   "file_extension": ".py",
   "mimetype": "text/x-python",
   "name": "python",
   "nbconvert_exporter": "python",
   "pygments_lexer": "ipython3",
   "version": "3.7.9"
  }
 },
 "nbformat": 4,
 "nbformat_minor": 5
}
